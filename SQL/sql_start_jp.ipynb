{
 "cells": [
  {
   "cell_type": "markdown",
   "metadata": {
    "collapsed": true,
    "pycharm": {
     "name": "#%% md\n"
    }
   },
   "source": []
  },
  {
   "cell_type": "code",
   "execution_count": 2,
   "outputs": [],
   "source": [
    "import sqlite3\n",
    "import pandas as pd\n",
    "import numpy as np"
   ],
   "metadata": {
    "collapsed": false,
    "pycharm": {
     "name": "#%%\n"
    }
   }
  },
  {
   "cell_type": "markdown",
   "source": [
    "Подключение к базе данных, или если ее нет создание и подключение"
   ],
   "metadata": {
    "collapsed": false,
    "pycharm": {
     "name": "#%% md\n"
    }
   }
  },
  {
   "cell_type": "code",
   "execution_count": 5,
   "outputs": [],
   "source": [
    "con = sqlite3.connect('orders.db')"
   ],
   "metadata": {
    "collapsed": false,
    "pycharm": {
     "name": "#%%\n"
    }
   }
  },
  {
   "cell_type": "code",
   "execution_count": 24,
   "outputs": [
    {
     "data": {
      "text/plain": "     age     sex  job housing saving_accounts checking_account  credit_amount  \\\n0     67    male    2     own             NaN           little           1169   \n1     22  female    2     own          little         moderate           5951   \n2     49    male    1     own          little              NaN           2096   \n3     45    male    2    free          little           little           7882   \n4     53    male    2    free          little           little           4870   \n..   ...     ...  ...     ...             ...              ...            ...   \n995   31  female    1     own          little              NaN           1736   \n996   40    male    3     own          little           little           3857   \n997   38    male    2     own          little              NaN            804   \n998   23    male    2    free          little           little           1845   \n999   27    male    2     own        moderate         moderate           4576   \n\n     duration              purpose  \n0           6             radio/TV  \n1          48             radio/TV  \n2          12            education  \n3          42  furniture/equipment  \n4          24                  car  \n..        ...                  ...  \n995        12  furniture/equipment  \n996        30                  car  \n997        12             radio/TV  \n998        45             radio/TV  \n999        45                  car  \n\n[1000 rows x 9 columns]",
      "text/html": "<div>\n<style scoped>\n    .dataframe tbody tr th:only-of-type {\n        vertical-align: middle;\n    }\n\n    .dataframe tbody tr th {\n        vertical-align: top;\n    }\n\n    .dataframe thead th {\n        text-align: right;\n    }\n</style>\n<table border=\"1\" class=\"dataframe\">\n  <thead>\n    <tr style=\"text-align: right;\">\n      <th></th>\n      <th>age</th>\n      <th>sex</th>\n      <th>job</th>\n      <th>housing</th>\n      <th>saving_accounts</th>\n      <th>checking_account</th>\n      <th>credit_amount</th>\n      <th>duration</th>\n      <th>purpose</th>\n    </tr>\n  </thead>\n  <tbody>\n    <tr>\n      <th>0</th>\n      <td>67</td>\n      <td>male</td>\n      <td>2</td>\n      <td>own</td>\n      <td>NaN</td>\n      <td>little</td>\n      <td>1169</td>\n      <td>6</td>\n      <td>radio/TV</td>\n    </tr>\n    <tr>\n      <th>1</th>\n      <td>22</td>\n      <td>female</td>\n      <td>2</td>\n      <td>own</td>\n      <td>little</td>\n      <td>moderate</td>\n      <td>5951</td>\n      <td>48</td>\n      <td>radio/TV</td>\n    </tr>\n    <tr>\n      <th>2</th>\n      <td>49</td>\n      <td>male</td>\n      <td>1</td>\n      <td>own</td>\n      <td>little</td>\n      <td>NaN</td>\n      <td>2096</td>\n      <td>12</td>\n      <td>education</td>\n    </tr>\n    <tr>\n      <th>3</th>\n      <td>45</td>\n      <td>male</td>\n      <td>2</td>\n      <td>free</td>\n      <td>little</td>\n      <td>little</td>\n      <td>7882</td>\n      <td>42</td>\n      <td>furniture/equipment</td>\n    </tr>\n    <tr>\n      <th>4</th>\n      <td>53</td>\n      <td>male</td>\n      <td>2</td>\n      <td>free</td>\n      <td>little</td>\n      <td>little</td>\n      <td>4870</td>\n      <td>24</td>\n      <td>car</td>\n    </tr>\n    <tr>\n      <th>...</th>\n      <td>...</td>\n      <td>...</td>\n      <td>...</td>\n      <td>...</td>\n      <td>...</td>\n      <td>...</td>\n      <td>...</td>\n      <td>...</td>\n      <td>...</td>\n    </tr>\n    <tr>\n      <th>995</th>\n      <td>31</td>\n      <td>female</td>\n      <td>1</td>\n      <td>own</td>\n      <td>little</td>\n      <td>NaN</td>\n      <td>1736</td>\n      <td>12</td>\n      <td>furniture/equipment</td>\n    </tr>\n    <tr>\n      <th>996</th>\n      <td>40</td>\n      <td>male</td>\n      <td>3</td>\n      <td>own</td>\n      <td>little</td>\n      <td>little</td>\n      <td>3857</td>\n      <td>30</td>\n      <td>car</td>\n    </tr>\n    <tr>\n      <th>997</th>\n      <td>38</td>\n      <td>male</td>\n      <td>2</td>\n      <td>own</td>\n      <td>little</td>\n      <td>NaN</td>\n      <td>804</td>\n      <td>12</td>\n      <td>radio/TV</td>\n    </tr>\n    <tr>\n      <th>998</th>\n      <td>23</td>\n      <td>male</td>\n      <td>2</td>\n      <td>free</td>\n      <td>little</td>\n      <td>little</td>\n      <td>1845</td>\n      <td>45</td>\n      <td>radio/TV</td>\n    </tr>\n    <tr>\n      <th>999</th>\n      <td>27</td>\n      <td>male</td>\n      <td>2</td>\n      <td>own</td>\n      <td>moderate</td>\n      <td>moderate</td>\n      <td>4576</td>\n      <td>45</td>\n      <td>car</td>\n    </tr>\n  </tbody>\n</table>\n<p>1000 rows × 9 columns</p>\n</div>"
     },
     "execution_count": 24,
     "metadata": {},
     "output_type": "execute_result"
    }
   ],
   "source": [
    "df = pd.read_csv(r'C:\\Users\\Ilya\\Desktop\\german_credit_data.csv', index_col='Unnamed: 0')\n",
    "df.columns = ['age', 'sex', 'job', 'housing', 'saving_accounts', 'checking_account',\n",
    "              'credit_amount', 'duration', 'purpose']\n",
    "df"
   ],
   "metadata": {
    "collapsed": false,
    "pycharm": {
     "name": "#%%\n"
    }
   }
  },
  {
   "cell_type": "markdown",
   "source": [
    "Заливка таблицы в базу данных к которой подключены"
   ],
   "metadata": {
    "collapsed": false,
    "pycharm": {
     "name": "#%% md\n"
    }
   }
  },
  {
   "cell_type": "code",
   "execution_count": 25,
   "outputs": [],
   "source": [
    "df.to_sql(name='german_credit', con=con, schema='public', if_exists='replace')"
   ],
   "metadata": {
    "collapsed": false,
    "pycharm": {
     "name": "#%%\n"
    }
   }
  },
  {
   "cell_type": "code",
   "execution_count": 7,
   "outputs": [],
   "source": [
    "# функция-обертка\n",
    "def select_data(sql):\n",
    "    return pd.read_sql(sql, con)"
   ],
   "metadata": {
    "collapsed": false,
    "pycharm": {
     "name": "#%%\n"
    }
   }
  },
  {
   "cell_type": "code",
   "execution_count": 12,
   "outputs": [],
   "source": [
    "sql_query = '''\n",
    "select * from german_credit;\n",
    "'''"
   ],
   "metadata": {
    "collapsed": false,
    "pycharm": {
     "name": "#%%\n"
    }
   }
  },
  {
   "cell_type": "code",
   "execution_count": 28,
   "outputs": [],
   "source": [
    "sql_query = '''\n",
    "select count(*)\n",
    "from german_credit\n",
    "where checking_account is null;\n",
    "'''"
   ],
   "metadata": {
    "collapsed": false,
    "pycharm": {
     "name": "#%%\n"
    }
   }
  },
  {
   "cell_type": "code",
   "execution_count": 29,
   "outputs": [
    {
     "data": {
      "text/plain": "   count(*)\n0       394",
      "text/html": "<div>\n<style scoped>\n    .dataframe tbody tr th:only-of-type {\n        vertical-align: middle;\n    }\n\n    .dataframe tbody tr th {\n        vertical-align: top;\n    }\n\n    .dataframe thead th {\n        text-align: right;\n    }\n</style>\n<table border=\"1\" class=\"dataframe\">\n  <thead>\n    <tr style=\"text-align: right;\">\n      <th></th>\n      <th>count(*)</th>\n    </tr>\n  </thead>\n  <tbody>\n    <tr>\n      <th>0</th>\n      <td>394</td>\n    </tr>\n  </tbody>\n</table>\n</div>"
     },
     "execution_count": 29,
     "metadata": {},
     "output_type": "execute_result"
    }
   ],
   "source": [
    "select_data(sql_query)"
   ],
   "metadata": {
    "collapsed": false,
    "pycharm": {
     "name": "#%%\n"
    }
   }
  },
  {
   "cell_type": "code",
   "execution_count": 63,
   "outputs": [
    {
     "data": {
      "text/plain": "   col1  col2  col3\n0     1     2     1\n1     2     2     1\n2     1     5     1",
      "text/html": "<div>\n<style scoped>\n    .dataframe tbody tr th:only-of-type {\n        vertical-align: middle;\n    }\n\n    .dataframe tbody tr th {\n        vertical-align: top;\n    }\n\n    .dataframe thead th {\n        text-align: right;\n    }\n</style>\n<table border=\"1\" class=\"dataframe\">\n  <thead>\n    <tr style=\"text-align: right;\">\n      <th></th>\n      <th>col1</th>\n      <th>col2</th>\n      <th>col3</th>\n    </tr>\n  </thead>\n  <tbody>\n    <tr>\n      <th>0</th>\n      <td>1</td>\n      <td>2</td>\n      <td>1</td>\n    </tr>\n    <tr>\n      <th>1</th>\n      <td>2</td>\n      <td>2</td>\n      <td>1</td>\n    </tr>\n    <tr>\n      <th>2</th>\n      <td>1</td>\n      <td>5</td>\n      <td>1</td>\n    </tr>\n  </tbody>\n</table>\n</div>"
     },
     "execution_count": 63,
     "metadata": {},
     "output_type": "execute_result"
    }
   ],
   "source": [
    "df3 = pd.DataFrame([[1, 2, 1], [2, 2, 1], [1, 5, 1]], columns=['col1', 'col2', 'col3'])\n",
    "df3"
   ],
   "metadata": {
    "collapsed": false,
    "pycharm": {
     "name": "#%%\n"
    }
   }
  },
  {
   "cell_type": "code",
   "execution_count": 64,
   "outputs": [],
   "source": [
    "df3.to_sql('df3', con, index=False, if_exists='replace')"
   ],
   "metadata": {
    "collapsed": false,
    "pycharm": {
     "name": "#%%\n"
    }
   }
  },
  {
   "cell_type": "code",
   "execution_count": 65,
   "outputs": [],
   "source": [
    "sql = '''\n",
    "select * from df3;\n",
    "'''"
   ],
   "metadata": {
    "collapsed": false,
    "pycharm": {
     "name": "#%%\n"
    }
   }
  },
  {
   "cell_type": "code",
   "execution_count": 66,
   "outputs": [
    {
     "data": {
      "text/plain": "   col1  col2  col3\n0     1     2     1\n1     2     2     1\n2     1     5     1",
      "text/html": "<div>\n<style scoped>\n    .dataframe tbody tr th:only-of-type {\n        vertical-align: middle;\n    }\n\n    .dataframe tbody tr th {\n        vertical-align: top;\n    }\n\n    .dataframe thead th {\n        text-align: right;\n    }\n</style>\n<table border=\"1\" class=\"dataframe\">\n  <thead>\n    <tr style=\"text-align: right;\">\n      <th></th>\n      <th>col1</th>\n      <th>col2</th>\n      <th>col3</th>\n    </tr>\n  </thead>\n  <tbody>\n    <tr>\n      <th>0</th>\n      <td>1</td>\n      <td>2</td>\n      <td>1</td>\n    </tr>\n    <tr>\n      <th>1</th>\n      <td>2</td>\n      <td>2</td>\n      <td>1</td>\n    </tr>\n    <tr>\n      <th>2</th>\n      <td>1</td>\n      <td>5</td>\n      <td>1</td>\n    </tr>\n  </tbody>\n</table>\n</div>"
     },
     "execution_count": 66,
     "metadata": {},
     "output_type": "execute_result"
    }
   ],
   "source": [
    "pd.read_sql(sql, con)"
   ],
   "metadata": {
    "collapsed": false,
    "pycharm": {
     "name": "#%%\n"
    }
   }
  },
  {
   "cell_type": "code",
   "execution_count": 85,
   "outputs": [],
   "source": [
    "sql = '''\n",
    "select group_credit, avg(credit_amount) as avg_credit\n",
    "from (SELECT credit_amount,\n",
    "       CASE\n",
    "           WHEN credit_amount <2000 THEN '1. <9000'\n",
    "           ELSE '2. >9000'\n",
    "       END as group_credit\n",
    "      FROM german_credit)\n",
    "group by group_credit\n",
    "order by avg_credit;\n",
    "'''"
   ],
   "metadata": {
    "collapsed": false,
    "pycharm": {
     "name": "#%%\n"
    }
   }
  },
  {
   "cell_type": "code",
   "execution_count": 79,
   "outputs": [],
   "source": [
    "sql = '''\n",
    "select max(credit_amount) from german_credit;\n",
    "'''"
   ],
   "metadata": {
    "collapsed": false,
    "pycharm": {
     "name": "#%%\n"
    }
   }
  },
  {
   "cell_type": "code",
   "execution_count": 86,
   "outputs": [
    {
     "data": {
      "text/plain": "  group_credit   avg_credit\n0     1. <9000  1266.835648\n1     2. >9000  4795.748239",
      "text/html": "<div>\n<style scoped>\n    .dataframe tbody tr th:only-of-type {\n        vertical-align: middle;\n    }\n\n    .dataframe tbody tr th {\n        vertical-align: top;\n    }\n\n    .dataframe thead th {\n        text-align: right;\n    }\n</style>\n<table border=\"1\" class=\"dataframe\">\n  <thead>\n    <tr style=\"text-align: right;\">\n      <th></th>\n      <th>group_credit</th>\n      <th>avg_credit</th>\n    </tr>\n  </thead>\n  <tbody>\n    <tr>\n      <th>0</th>\n      <td>1. &lt;9000</td>\n      <td>1266.835648</td>\n    </tr>\n    <tr>\n      <th>1</th>\n      <td>2. &gt;9000</td>\n      <td>4795.748239</td>\n    </tr>\n  </tbody>\n</table>\n</div>"
     },
     "execution_count": 86,
     "metadata": {},
     "output_type": "execute_result"
    }
   ],
   "source": [
    "pd.read_sql(sql, con)"
   ],
   "metadata": {
    "collapsed": false,
    "pycharm": {
     "name": "#%%\n"
    }
   }
  }
 ],
 "metadata": {
  "kernelspec": {
   "display_name": "Python 3",
   "language": "python",
   "name": "python3"
  },
  "language_info": {
   "codemirror_mode": {
    "name": "ipython",
    "version": 2
   },
   "file_extension": ".py",
   "mimetype": "text/x-python",
   "name": "python",
   "nbconvert_exporter": "python",
   "pygments_lexer": "ipython2",
   "version": "2.7.6"
  }
 },
 "nbformat": 4,
 "nbformat_minor": 0
}